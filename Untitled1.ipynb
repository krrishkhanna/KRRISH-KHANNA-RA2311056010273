{
 "cells": [
  {
   "cell_type": "code",
   "execution_count": null,
   "id": "05ff8ca6-53a1-4420-a7e5-52f880bd1038",
   "metadata": {},
   "outputs": [],
   "source": []
  },
  {
   "cell_type": "code",
   "execution_count": null,
   "id": "1685a786-cf00-4ade-b0e4-97948d6f722c",
   "metadata": {},
   "outputs": [],
   "source": []
  },
  {
   "cell_type": "code",
   "execution_count": 31,
   "id": "c4868590-f89f-4ad6-9a69-bc64dbc4ad87",
   "metadata": {},
   "outputs": [
    {
     "name": "stdout",
     "output_type": "stream",
     "text": [
      "[[1 2 3 4]\n",
      " [5 6 7 8]\n",
      " [3 4 6 2]]\n",
      "  C_CONTIGUOUS : True\n",
      "  F_CONTIGUOUS : False\n",
      "  OWNDATA : True\n",
      "  WRITEABLE : True\n",
      "  ALIGNED : True\n",
      "  WRITEBACKIFCOPY : False\n",
      "\n",
      "(3, 4)\n",
      "(32, 8)\n",
      "2\n",
      "<memory at 0x14cc29f20>\n",
      "8\n",
      "None\n",
      "96\n",
      "[[1 5 3]\n",
      " [2 6 4]\n",
      " [3 7 6]\n",
      " [4 8 2]]\n",
      "[[1 2 3 4]\n",
      " [5 6 7 8]\n",
      " [3 4 6 2]]\n",
      "[[0 0 0 0]\n",
      " [0 0 0 0]\n",
      " [0 0 0 0]]\n",
      "12\n"
     ]
    }
   ],
   "source": [
    "import numpy as np \n",
    "arr1 = np.array([[1,2,3,4], [5,6,7,8], [3,4,6,2]])\n",
    "print(arr1)\n",
    "print(arr1.flags)\n",
    "print(arr1.shape)\n",
    "print(arr1.strides)\n",
    "print(arr1.ndim)\n",
    "print(arr1.data)                                                      \n",
    "print(arr1.itemsize)\n",
    "print(arr1.base)\n",
    "print(arr1.nbytes)\n",
    "print(arr1.T)\n",
    "print(arr1.real)\n",
    "print(arr1.imag)\n",
    "print(arr1.size)"
   ]
  },
  {
   "cell_type": "code",
   "execution_count": null,
   "id": "6533b413-b16b-46ad-b36c-10358e9e0169",
   "metadata": {},
   "outputs": [],
   "source": []
  },
  {
   "cell_type": "code",
   "execution_count": null,
   "id": "084c4c08-cb56-410d-b0da-a907ecb32c39",
   "metadata": {},
   "outputs": [],
   "source": []
  }
 ],
 "metadata": {
  "kernelspec": {
   "display_name": "Python 3 (ipykernel)",
   "language": "python",
   "name": "python3"
  },
  "language_info": {
   "codemirror_mode": {
    "name": "ipython",
    "version": 3
   },
   "file_extension": ".py",
   "mimetype": "text/x-python",
   "name": "python",
   "nbconvert_exporter": "python",
   "pygments_lexer": "ipython3",
   "version": "3.12.4"
  }
 },
 "nbformat": 4,
 "nbformat_minor": 5
}
